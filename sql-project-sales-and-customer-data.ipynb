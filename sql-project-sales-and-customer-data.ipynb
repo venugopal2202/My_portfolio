{
 "cells": [
  {
   "cell_type": "markdown",
   "metadata": {},
   "source": []
  },
  {
   "cell_type": "markdown",
   "metadata": {},
   "source": [
    "## Customer and Sales Data"
   ]
  },
  {
   "cell_type": "markdown",
   "metadata": {},
   "source": [
    "To watch the video version of this project, click the following link: https://www.youtube.com/watch?v=0Ds_mGiw_3s"
   ]
  },
  {
   "cell_type": "markdown",
   "metadata": {},
   "source": [
    "For this project, i used the Sales and Customer data from Kaggle: https://www.kaggle.com/datasets/dataceo/sales-and-customer-data?select=customer_data.csv\n",
    "\n",
    "**In this project, I will be answering the following questions:**\n",
    "\n",
    "  1.  What is the total revenue generated?\n",
    "  2.  What is the most popular product category in terms of sales?\n",
    "  3. What are the three top shopping malls in terms of sales revenue?\n",
    "  4. What is the gender distribution across different product categories?\n",
    "  5. What is the age distribution of customers who prefer each payment method?\n",
    "\n",
    "Before answering these questions, my goal is to create one source of truth by combining the two sources provided. This will simplify querying the data and will create a better organisation and viewing experience.\n"
   ]
  },
  {
   "cell_type": "markdown",
   "metadata": {},
   "source": [
    "# Step zero: Data Exploration"
   ]
  },
  {
   "cell_type": "code",
   "execution_count": null,
   "metadata": {},
   "outputs": [],
   "source": [
    "SELECT *\n",
    "FROM emilio-playground.raw.raw_customer\n",
    "LIMIT 100;\n",
    "\n",
    "SELECT *\n",
    "FROM emilio-playground.raw.raw_sales\n",
    "LIMIT 100;"
   ]
  },
  {
   "cell_type": "markdown",
   "metadata": {},
   "source": [
    "\n",
    "This data has some pretty interesting information, including: customer age, product type, payment method, and price. I want to check if there is one row per invoid-id or multiple.\n"
   ]
  },
  {
   "cell_type": "code",
   "execution_count": null,
   "metadata": {},
   "outputs": [],
   "source": [
    "SELECT\n",
    "invoice_no\n",
    ", COUNT(*) AS count\n",
    "FROM emilio-playground.raw.raw_sales\n",
    "GROUP BY 1\n",
    "HAVING count > 2;"
   ]
  },
  {
   "cell_type": "markdown",
   "metadata": {},
   "source": [
    "output: none. This proves that there is only one invoice-id per row, therefore there are no duplicates and we do not have to worry about eliminating these in the data clearning process. Great!\n"
   ]
  },
  {
   "cell_type": "markdown",
   "metadata": {},
   "source": [
    "# Step one: Clean the data"
   ]
  },
  {
   "cell_type": "markdown",
   "metadata": {},
   "source": [
    "I will begin my joining the data from the customer table to the sales table under the alias 'customer_sales_data'"
   ]
  },
  {
   "cell_type": "code",
   "execution_count": null,
   "metadata": {},
   "outputs": [],
   "source": [
    "CREATE OR REPLACE TABLE `core.sales_customer_data` AS (\n",
    "SELECT \n",
    "  s.customer_id\n",
    "  , s.category\n",
    "  , s.quantity\n",
    "  , s.price\n",
    "  , s.quantity * s.price AS total_price\n",
    "  , s.invoice_date\n",
    "  , s.shopping_mall\n",
    "  , c.gender\n",
    "  , c.age\n",
    "  , c.payment_method\n",
    "FROM emilio-playground.raw.raw_sales AS s\n",
    "INNER JOIN emilio-playground.raw.raw_customer AS c\n",
    "ON c.customer_id = s.customer_id);"
   ]
  },
  {
   "cell_type": "markdown",
   "metadata": {},
   "source": [
    "I added the total price in case of a purchase with more than one quantity. The text formatting seems to be consistent across columns, so there is no need to LOWER or UPPER each one. \n",
    "We have the same amount of rows after the joining, which means we are in the clear and there is no sign of duplication due to the join.  Additionally, there is a 100% joining rate.\n",
    "\n",
    "Next, I will check for Null values in the total_price column as this was a custom computed column which we will use for later analysis."
   ]
  },
  {
   "cell_type": "code",
   "execution_count": null,
   "metadata": {},
   "outputs": [],
   "source": [
    "SELECT *\n",
    "FROM emilio-playground.core.sales_customer_data\n",
    "WHERE total_price IS NULL;"
   ]
  },
  {
   "cell_type": "markdown",
   "metadata": {},
   "source": [
    "Output: 0. Excellent, there are no Null values in this column."
   ]
  },
  {
   "cell_type": "markdown",
   "metadata": {},
   "source": [
    "# Step two: Analyse the data"
   ]
  },
  {
   "cell_type": "markdown",
   "metadata": {},
   "source": [
    "**Question one:  What is the total revenue generated in the year 2022?**"
   ]
  },
  {
   "cell_type": "code",
   "execution_count": null,
   "metadata": {},
   "outputs": [],
   "source": [
    "SELECT SUM(total_price) AS total_revenue\n",
    "FROM emilio-playground.core.sales_customer_data\n",
    "WHERE EXTRACT(year FROM invoice_date) = 2022;"
   ]
  },
  {
   "cell_type": "markdown",
   "metadata": {},
   "source": [
    "Output: 115,436,814.08. "
   ]
  },
  {
   "cell_type": "markdown",
   "metadata": {},
   "source": [
    "**Quesiton two:   What is the most popular product category in terms of sales?**"
   ]
  },
  {
   "cell_type": "code",
   "execution_count": null,
   "metadata": {},
   "outputs": [],
   "source": [
    "SELECT\n",
    "  SUM(quantity) AS total_quantity\n",
    " , category\n",
    "FROM emilio-playground.core.sales_customer_data\n",
    "GROUP BY category\n",
    "ORDER BY total_quantity DESC;"
   ]
  },
  {
   "cell_type": "markdown",
   "metadata": {},
   "source": [
    "Output: Clothing was the most popular product cateory in terms of sales by more than double the 2nd place cosmetics category.\n",
    "\n",
    "1. Clothing: 103558\n",
    "2. Cosmetics: 45465\n",
    "3. Food & Beverage: 44277\n",
    "4. Toys: 30321\n",
    "5. Shoes: 30217\n",
    "6. Technology: 15021\n",
    "7. Book: 14982\n",
    "8. Souvenir: 14871"
   ]
  },
  {
   "cell_type": "markdown",
   "metadata": {},
   "source": [
    "**Quesiton three: What are the three top shopping malls in terms of sales revenue?**"
   ]
  },
  {
   "cell_type": "code",
   "execution_count": null,
   "metadata": {},
   "outputs": [],
   "source": [
    "SELECT\n",
    "  shopping_mall\n",
    "  , ROUND(SUM(total_price),2) AS total_price\n",
    "  FROM emilio-playground.core.sales_customer_data\n",
    "  GROUP BY shopping_mall\n",
    "  ORDER BY total_price DESC\n",
    "  LIMIT 3;"
   ]
  },
  {
   "cell_type": "markdown",
   "metadata": {},
   "source": [
    "Output: The top three highest sales revenue shopping malls are the following:\n",
    "\n",
    "1.\tMall of Istanbul: 50872481.68\n",
    "2.\tKanyon: 50554231.1\n",
    "3.\t  Metrocity: 37302787.33"
   ]
  },
  {
   "cell_type": "markdown",
   "metadata": {},
   "source": [
    "**Question four: What is the gender distribution across different product categories?**"
   ]
  },
  {
   "cell_type": "code",
   "execution_count": null,
   "metadata": {},
   "outputs": [],
   "source": [
    "SELECT\n",
    "  category\n",
    "  , gender\n",
    "  , COUNT(*) AS count\n",
    "  FROM emilio-playground.core.sales_customer_data\n",
    "GROUP BY gender, category\n",
    " ORDER BY count DESC;"
   ]
  },
  {
   "cell_type": "markdown",
   "metadata": {},
   "source": [
    "Output:  Females purchased more than men in every single category... Surprising?? \n",
    "\n",
    "Clothing: Female = 20652, Male= 13835\n",
    "\n",
    "Cosmetics: Female= 9070, Male= 6027\n",
    "\n",
    "Food & Beverage: Female = 8804, Male= 5972\n",
    "\n",
    "Toys: Female = 6085, Male= 4002\n",
    "\n",
    "Technology: Female= 2981, Male= 2015"
   ]
  },
  {
   "cell_type": "markdown",
   "metadata": {},
   "source": [
    "**Question five: What is the age distribution of customers who prefer each payment method?**"
   ]
  },
  {
   "cell_type": "code",
   "execution_count": null,
   "metadata": {},
   "outputs": [],
   "source": [
    "SELECT\n",
    "  CASE WHEN age BETWEEN 0 AND 25 THEN '0-25'\n",
    "       WHEN age BETWEEN 26 AND 50 THEN '26-50'\n",
    "       WHEN age BETWEEN 51 AND 75 THEN '51-75'\n",
    "       WHEN age BETWEEN 76 AND 100 THEN '76-100'\n",
    "       ELSE 'other' \n",
    "       END AS age_range\n",
    "  ,payment_method \n",
    "  ,COUNT(*) AS count\n",
    "  FROM emilio-playground.core.sales_customer_data\n",
    " GROUP BY age_range, payment_method\n",
    " ORDER BY count DESC;"
   ]
  },
  {
   "cell_type": "markdown",
   "metadata": {},
   "source": [
    "Output: \n",
    "\n",
    "| Age Range | Payment Method | Count |\n",
    "|-----------|----------------|--------|\n",
    "| 26-50     | Cash           | 21,395 |\n",
    "| 26-50     | Credit Card    | 16,819 |\n",
    "| 51-75     | Cash           | 16,169 |\n",
    "| 51-75     | Credit Card    | 12,660 |\n",
    "| 26-50     | Debit Card      | 9,727 |\n",
    "| 51-75     | Debit Card      | 7,225 |\n",
    "| 0-25      | Cash            | 6,833 |\n",
    "| 0-25      | Credit Card     | 5,419 |\n",
    "| 0-25      | Debit Card      | 3,091 |\n",
    "| Other     | Cash               | 50 |\n",
    "| Other     | Debit Card         | 36 |\n",
    "| Other     | Credit Card        | 33 |\n",
    "\n",
    "1. The age group 26-50 uses Cash as a payment method the most, followed by Credit Card and Debit Card.\n",
    "2. The age group 51-75 has a similar trend where they use Cash the most, followed by Credit Card and then Debit Card.\n",
    "3. The age group 0-25 prefers to use Cash, then Credit Card, and Debit Card comes last.\n",
    "4. The \"Other\" age group uses Cash the most, though the counts are very low for all payment methods in this category.\n",
    " \n",
    "Overall, across all age groups, the use of Cash is dominant, followed by Credit Card and Debit Card. "
   ]
  },
  {
   "cell_type": "markdown",
   "metadata": {},
   "source": [
    "# Step three: Conclusions"
   ]
  },
  {
   "cell_type": "markdown",
   "metadata": {},
   "source": [
    "Based on the comprehensive analysis of the Sales and Customer data:\n",
    " \n",
    "1. The total revenue generated in the year 2022 was $115,436,814.08.\n",
    "\n",
    "2. The most popular product category in terms of sales was 'Clothing' with 103,558 units sold, significantly outperforming other categories.\n",
    "\n",
    "3. The top three shopping malls with the highest sales revenue were:\n",
    "- Mall of Istanbul: $50,872,481.68\n",
    "\n",
    "- Kanyon: $50,554,231.1\n",
    "\n",
    "- Metrocity: $37,302,787.33\n",
    "\n",
    "4. Gender-wise, females consistently purchased more across all product categories, particularly dominating in the 'Clothing' and 'Cosmetics' categories.\n",
    "\n",
    "5. In terms of payment preferences:\n",
    "- The age group 26-50 predominantly used Cash, followed by Credit Card and Debit Card.\n",
    "- The age group 51-75 mirrored this trend, preferring Cash, then Credit Card and subsequently Debit Card.\n",
    "- Those aged 0-25 primarily utilized Cash, with Credit Card and Debit Card following.\n",
    "- Despite the counts being relatively low in the \"Other\" age group, Cash remained the dominant choice, ahead of both Credit and Debit Cards.\n",
    " \n",
    "In essence, the data reflects a strong preference for 'Clothing' across shoppers, and a consistent inclination towards using Cash as a mode of payment across different age groups.\n"
   ]
  },
  {
   "cell_type": "markdown",
   "metadata": {},
   "source": [
    "**Thank you for reading this SQL project, I appreciate it!**"
   ]
  }
 ],
 "metadata": {
  "kernelspec": {
   "display_name": "Python 3 (ipykernel)",
   "language": "python",
   "name": "python3"
  },
  "language_info": {
   "codemirror_mode": {
    "name": "ipython",
    "version": 3
   },
   "file_extension": ".py",
   "mimetype": "text/x-python",
   "name": "python",
   "nbconvert_exporter": "python",
   "pygments_lexer": "ipython3",
   "version": "3.12.4"
  }
 },
 "nbformat": 4,
 "nbformat_minor": 4
}
